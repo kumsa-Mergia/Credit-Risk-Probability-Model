{
 "cells": [
  {
   "cell_type": "markdown",
   "id": "59b59787",
   "metadata": {},
   "source": []
  },
  {
   "cell_type": "code",
   "execution_count": 1,
   "id": "d72078c7",
   "metadata": {},
   "outputs": [],
   "source": [
    "import sys\n",
    "import os\n",
    "import pandas as pd\n",
    "import numpy as np\n",
    "from sklearn.preprocessing import StandardScaler\n",
    "from sklearn.cluster import KMeans"
   ]
  },
  {
   "cell_type": "code",
   "execution_count": 2,
   "id": "9828d7f2",
   "metadata": {},
   "outputs": [],
   "source": [
    "project_root = os.path.abspath(os.path.join(os.getcwd(), '../'))\n",
    "if project_root not in sys.path:\n",
    "    sys.path.append(project_root)\n",
    "\n",
    "from src.label_engineer import RiskLabelEngineer"
   ]
  },
  {
   "cell_type": "markdown",
   "id": "b59fb6e4",
   "metadata": {},
   "source": [
    "# data format"
   ]
  },
  {
   "cell_type": "code",
   "execution_count": 3,
   "id": "6582bef7",
   "metadata": {},
   "outputs": [],
   "source": [
    "transactions_df = pd.read_csv(\"../data/raw/data.csv\", parse_dates=[\"TransactionStartTime\"])"
   ]
  },
  {
   "cell_type": "markdown",
   "id": "e183f6c0",
   "metadata": {},
   "source": [
    "# Generate base customer dataframe"
   ]
  },
  {
   "cell_type": "code",
   "execution_count": 4,
   "id": "b5b34e4f",
   "metadata": {},
   "outputs": [],
   "source": [
    "main_df = transactions_df[[\"CustomerId\"]].drop_duplicates()"
   ]
  },
  {
   "cell_type": "markdown",
   "id": "3e1d9df9",
   "metadata": {},
   "source": [
    "\n",
    "# Create and run the label engineer"
   ]
  },
  {
   "cell_type": "code",
   "execution_count": 5,
   "id": "38c32216",
   "metadata": {},
   "outputs": [],
   "source": [
    "engineer = RiskLabelEngineer(transactions_df, main_df)"
   ]
  },
  {
   "cell_type": "code",
   "execution_count": 6,
   "id": "23b78820",
   "metadata": {},
   "outputs": [],
   "source": [
    "main_with_risk = engineer.run()"
   ]
  },
  {
   "cell_type": "markdown",
   "id": "e6d4d816",
   "metadata": {},
   "source": [
    "# View result"
   ]
  },
  {
   "cell_type": "code",
   "execution_count": 7,
   "id": "9c449d86",
   "metadata": {},
   "outputs": [
    {
     "data": {
      "text/html": [
       "<div>\n",
       "<style scoped>\n",
       "    .dataframe tbody tr th:only-of-type {\n",
       "        vertical-align: middle;\n",
       "    }\n",
       "\n",
       "    .dataframe tbody tr th {\n",
       "        vertical-align: top;\n",
       "    }\n",
       "\n",
       "    .dataframe thead th {\n",
       "        text-align: right;\n",
       "    }\n",
       "</style>\n",
       "<table border=\"1\" class=\"dataframe\">\n",
       "  <thead>\n",
       "    <tr style=\"text-align: right;\">\n",
       "      <th></th>\n",
       "      <th>CustomerId</th>\n",
       "      <th>is_high_risk</th>\n",
       "    </tr>\n",
       "  </thead>\n",
       "  <tbody>\n",
       "    <tr>\n",
       "      <th>0</th>\n",
       "      <td>CustomerId_4406</td>\n",
       "      <td>0</td>\n",
       "    </tr>\n",
       "    <tr>\n",
       "      <th>1</th>\n",
       "      <td>CustomerId_4683</td>\n",
       "      <td>1</td>\n",
       "    </tr>\n",
       "    <tr>\n",
       "      <th>2</th>\n",
       "      <td>CustomerId_988</td>\n",
       "      <td>0</td>\n",
       "    </tr>\n",
       "    <tr>\n",
       "      <th>3</th>\n",
       "      <td>CustomerId_1432</td>\n",
       "      <td>1</td>\n",
       "    </tr>\n",
       "    <tr>\n",
       "      <th>4</th>\n",
       "      <td>CustomerId_2858</td>\n",
       "      <td>0</td>\n",
       "    </tr>\n",
       "  </tbody>\n",
       "</table>\n",
       "</div>"
      ],
      "text/plain": [
       "        CustomerId  is_high_risk\n",
       "0  CustomerId_4406             0\n",
       "1  CustomerId_4683             1\n",
       "2   CustomerId_988             0\n",
       "3  CustomerId_1432             1\n",
       "4  CustomerId_2858             0"
      ]
     },
     "execution_count": 7,
     "metadata": {},
     "output_type": "execute_result"
    }
   ],
   "source": [
    "main_with_risk.head()"
   ]
  }
 ],
 "metadata": {
  "kernelspec": {
   "display_name": "venv",
   "language": "python",
   "name": "python3"
  },
  "language_info": {
   "codemirror_mode": {
    "name": "ipython",
    "version": 3
   },
   "file_extension": ".py",
   "mimetype": "text/x-python",
   "name": "python",
   "nbconvert_exporter": "python",
   "pygments_lexer": "ipython3",
   "version": "3.12.3"
  }
 },
 "nbformat": 4,
 "nbformat_minor": 5
}
