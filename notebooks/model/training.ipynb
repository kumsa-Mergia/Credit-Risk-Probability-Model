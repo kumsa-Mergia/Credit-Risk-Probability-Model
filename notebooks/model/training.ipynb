{
 "cells": [
  {
   "cell_type": "markdown",
   "id": "55e940e4",
   "metadata": {},
   "source": [
    "# Model Training and Tracking"
   ]
  },
  {
   "cell_type": "code",
   "execution_count": 4,
   "id": "1cc8e228",
   "metadata": {},
   "outputs": [],
   "source": [
    "import pandas as pd\n",
    "import numpy as np\n",
    "import sys\n",
    "import os"
   ]
  },
  {
   "cell_type": "code",
   "execution_count": 5,
   "id": "6ccbfc64",
   "metadata": {},
   "outputs": [],
   "source": [
    "project_root = os.path.abspath(os.path.join(os.getcwd(), '../../'))\n",
    "if project_root not in sys.path:\n",
    "    sys.path.append(project_root)"
   ]
  },
  {
   "cell_type": "code",
   "execution_count": 6,
   "id": "479fe0e1",
   "metadata": {},
   "outputs": [
    {
     "name": "stdout",
     "output_type": "stream",
     "text": [
      "LogisticRegression - Accuracy: 0.9983, F1: 0.2727, ROC-AUC: 0.5833\n",
      "RandomForest - Accuracy: 0.9998, F1: 0.9565, ROC-AUC: 0.9583\n"
     ]
    }
   ],
   "source": [
    "from src.train import main\n",
    "main()"
   ]
  }
 ],
 "metadata": {
  "kernelspec": {
   "display_name": "venv",
   "language": "python",
   "name": "python3"
  },
  "language_info": {
   "codemirror_mode": {
    "name": "ipython",
    "version": 3
   },
   "file_extension": ".py",
   "mimetype": "text/x-python",
   "name": "python",
   "nbconvert_exporter": "python",
   "pygments_lexer": "ipython3",
   "version": "3.12.3"
  }
 },
 "nbformat": 4,
 "nbformat_minor": 5
}
